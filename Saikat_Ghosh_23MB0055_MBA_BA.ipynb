{
 "cells": [
  {
   "cell_type": "markdown",
   "id": "4a3626d4",
   "metadata": {},
   "source": [
    "# Nitesh Kumar 23MB0042 MBA BA\n",
    "\n"
   ]
  },
  {
   "cell_type": "code",
   "execution_count": null,
   "id": "e8c754c3",
   "metadata": {},
   "outputs": [],
   "source": [
    "import mysql.connector"
   ]
  },
  {
   "cell_type": "code",
   "execution_count": 2,
   "id": "d138ef03",
   "metadata": {},
   "outputs": [],
   "source": [
    "from mysql.connector import pooling"
   ]
  },
  {
   "cell_type": "code",
   "execution_count": 3,
   "id": "14a562c2",
   "metadata": {},
   "outputs": [],
   "source": [
    "cnx=mysql.connector.connect(\n",
    "host=\"localhost\",\n",
    "port=3306,\n",
    "user=\"root\",\n",
    "password=\"12345678\",\n",
    "database=\"adbms_lab\")"
   ]
  },
  {
   "cell_type": "code",
   "execution_count": 4,
   "id": "a160f3e6",
   "metadata": {},
   "outputs": [],
   "source": [
    "#create a cursor to execute sql queries\n",
    "cur=cnx.cursor()"
   ]
  },
  {
   "cell_type": "code",
   "execution_count": 5,
   "id": "c5edfd5d",
   "metadata": {},
   "outputs": [],
   "source": [
    "cur.execute(\"SELECT name FROM instructor where salary > some(select salary from instructor where dept_name='Biology');\")"
   ]
  },
  {
   "cell_type": "code",
   "execution_count": 6,
   "id": "6e07f58b",
   "metadata": {},
   "outputs": [
    {
     "name": "stdout",
     "output_type": "stream",
     "text": [
      "('Wu',)\n",
      "('Einstein',)\n",
      "('Gold',)\n",
      "('Katz',)\n",
      "('Singh',)\n",
      "('Crick',)\n",
      "('Brandt',)\n",
      "('Kim',)\n"
     ]
    }
   ],
   "source": [
    "result = cur.fetchall()\n",
    "for row in result:\n",
    "    print(row)"
   ]
  },
  {
   "cell_type": "code",
   "execution_count": 7,
   "id": "337dd042",
   "metadata": {},
   "outputs": [],
   "source": [
    "cur.execute(\"SELECT name FROM instructor where salary > all(select salary from instructor where dept_name='Biology');\")"
   ]
  },
  {
   "cell_type": "code",
   "execution_count": 8,
   "id": "46b2f264",
   "metadata": {},
   "outputs": [],
   "source": [
    "result = cur.fetchall()\n",
    "for row in result:\n",
    "    print(row)"
   ]
  },
  {
   "cell_type": "code",
   "execution_count": 9,
   "id": "311df8e7",
   "metadata": {},
   "outputs": [],
   "source": [
    "cur.execute(\"SELECT dept_name,avg(salary) FROM instructor group by dept_name having avg(salary) > 42000;\")"
   ]
  },
  {
   "cell_type": "code",
   "execution_count": 10,
   "id": "cbb3b9db",
   "metadata": {},
   "outputs": [
    {
     "name": "stdout",
     "output_type": "stream",
     "text": [
      "('Computer Science', 70000.0)\n",
      "('Biology', 69000.0)\n",
      "('Finance', 85000.0)\n",
      "('Physics', 91000.0)\n",
      "('History', 61000.0)\n",
      "('ComputerScience', 92000.0)\n",
      "('ElectricalEngineering', 80000.0)\n"
     ]
    }
   ],
   "source": [
    "result = cur.fetchall()\n",
    "for row in result:\n",
    "    print(row)"
   ]
  },
  {
   "cell_type": "code",
   "execution_count": 11,
   "id": "f512b5c4",
   "metadata": {},
   "outputs": [],
   "source": [
    "cur.execute(\"SELECT dept_name,sum(salary),avg(salary) FROM instructor group by dept_name having sum(salary) > avg(salary);\")"
   ]
  },
  {
   "cell_type": "code",
   "execution_count": 12,
   "id": "735cd91e",
   "metadata": {},
   "outputs": [
    {
     "name": "stdout",
     "output_type": "stream",
     "text": [
      "('Computer Science', 140000.0, 70000.0)\n",
      "('Biology', 138000.0, 69000.0)\n",
      "('Finance', 170000.0, 85000.0)\n",
      "('Physics', 182000.0, 91000.0)\n",
      "('History', 122000.0, 61000.0)\n"
     ]
    }
   ],
   "source": [
    "result = cur.fetchall()\n",
    "for row in result:\n",
    "    print(row)"
   ]
  },
  {
   "cell_type": "code",
   "execution_count": 13,
   "id": "4935d72a",
   "metadata": {},
   "outputs": [],
   "source": [
    "cur.execute(\"SELECT name,teaches.course_id from instructor join teaches on instructor.id=teaches.id;\")"
   ]
  },
  {
   "cell_type": "code",
   "execution_count": 14,
   "id": "18b9ada6",
   "metadata": {},
   "outputs": [
    {
     "name": "stdout",
     "output_type": "stream",
     "text": [
      "('Srinivasan', 'CS-101')\n",
      "('Srinivasan', 'CS-315')\n",
      "('Srinivasan', 'CS-347')\n",
      "('Wu', 'FIN-201')\n",
      "('Mozart', 'MU-199')\n",
      "('Einstein', 'HY-101')\n",
      "('El Said0', 'HIS-351')\n",
      "('Katz', 'CS-101')\n",
      "('Katz', 'CS-319')\n",
      "('Crick', 'BIO-101')\n",
      "('Crick', 'BIO-301')\n",
      "('Brandt', 'CS-190')\n",
      "('Brandt', 'CS-190')\n",
      "('Brandt', 'CS-319')\n",
      "('Kim', 'EE-181')\n"
     ]
    }
   ],
   "source": [
    "result = cur.fetchall()\n",
    "for row in result:\n",
    "    print(row)"
   ]
  },
  {
   "cell_type": "code",
   "execution_count": 15,
   "id": "20d47260",
   "metadata": {},
   "outputs": [],
   "source": [
    "cur.execute(\"SELECT name,teaches.course_id from instructor left outer join teaches on instructor.id=teaches.id;\")"
   ]
  },
  {
   "cell_type": "code",
   "execution_count": 16,
   "id": "6b2fc245",
   "metadata": {},
   "outputs": [
    {
     "name": "stdout",
     "output_type": "stream",
     "text": [
      "('Srinivasan', 'CS-101')\n",
      "('Srinivasan', 'CS-315')\n",
      "('Srinivasan', 'CS-347')\n",
      "('Smith', None)\n",
      "('Tom', None)\n",
      "('Wu', 'FIN-201')\n",
      "('Mozart', 'MU-199')\n",
      "('Einstein', 'HY-101')\n",
      "('El Said0', 'HIS-351')\n",
      "('Gold', None)\n",
      "('Katz', 'CS-101')\n",
      "('Katz', 'CS-319')\n",
      "('Califieri', None)\n",
      "('Singh', None)\n",
      "('Crick', 'BIO-101')\n",
      "('Crick', 'BIO-301')\n",
      "('Brandt', 'CS-190')\n",
      "('Brandt', 'CS-190')\n",
      "('Brandt', 'CS-319')\n",
      "('Kim', 'EE-181')\n"
     ]
    }
   ],
   "source": [
    "result = cur.fetchall()\n",
    "for row in result:\n",
    "    print(row)"
   ]
  },
  {
   "cell_type": "code",
   "execution_count": 17,
   "id": "8004decf",
   "metadata": {},
   "outputs": [],
   "source": [
    "cur.execute(\"create view faculty as select id,name,dept_name from instructor;\")"
   ]
  },
  {
   "cell_type": "code",
   "execution_count": 18,
   "id": "640ba296",
   "metadata": {},
   "outputs": [],
   "source": [
    "cur.execute(\"create view sal_totals as select dept_name,sum(salary) from instructor group by dept_name;\")"
   ]
  },
  {
   "cell_type": "code",
   "execution_count": 19,
   "id": "3aaf9ebe",
   "metadata": {},
   "outputs": [],
   "source": [
    "cur.execute(\"create role student;\")"
   ]
  },
  {
   "cell_type": "code",
   "execution_count": 20,
   "id": "b0f05c27",
   "metadata": {},
   "outputs": [],
   "source": [
    "cur.execute(\"grant select on faculty to student;\")"
   ]
  },
  {
   "cell_type": "code",
   "execution_count": 21,
   "id": "06b49389",
   "metadata": {},
   "outputs": [],
   "source": [
    "import pandas as pd"
   ]
  },
  {
   "cell_type": "code",
   "execution_count": 22,
   "id": "76ebcd56",
   "metadata": {},
   "outputs": [],
   "source": [
    "data_instructor=pd.read_csv(\"instructor.csv\")"
   ]
  },
  {
   "cell_type": "code",
   "execution_count": 23,
   "id": "5e01b8ed",
   "metadata": {},
   "outputs": [],
   "source": [
    "data_teaches=pd.read_csv(\"teaches.csv\")"
   ]
  },
  {
   "cell_type": "code",
   "execution_count": 24,
   "id": "fd5054b1",
   "metadata": {},
   "outputs": [],
   "source": [
    "biology_max_salary = data_instructor[data_instructor['dept_name'] == 'Biology']['salary'].max()\n",
    "\n",
    "result = data_instructor[data_instructor['salary'] > biology_max_salary]['name']"
   ]
  },
  {
   "cell_type": "code",
   "execution_count": 25,
   "id": "f78d33de",
   "metadata": {},
   "outputs": [
    {
     "data": {
      "text/plain": [
       "3           Wu\n",
       "5     Einstein\n",
       "7         Gold\n",
       "8         Katz\n",
       "10       Singh\n",
       "12      Brandt\n",
       "13         Kim\n",
       "Name: name, dtype: object"
      ]
     },
     "execution_count": 25,
     "metadata": {},
     "output_type": "execute_result"
    }
   ],
   "source": [
    "result"
   ]
  },
  {
   "cell_type": "code",
   "execution_count": 26,
   "id": "48a9df49",
   "metadata": {},
   "outputs": [],
   "source": [
    "avg_salary = data_instructor.groupby('dept_name')['salary'].mean()\n",
    "\n",
    "selected_departments = avg_salary[avg_salary> 42000].index.tolist()\n",
    "\n",
    "result = data_instructor[data_instructor['dept_name'].isin(selected_departments)].groupby('dept_name')['salary'].mean()"
   ]
  },
  {
   "cell_type": "code",
   "execution_count": 27,
   "id": "44850b09",
   "metadata": {},
   "outputs": [
    {
     "data": {
      "text/plain": [
       "dept_name\n",
       "Biology                  69000.0\n",
       "Computer Science         70000.0\n",
       "ComputerScience          92000.0\n",
       "ElectricalEngineering    80000.0\n",
       "Finance                  85000.0\n",
       "History                  61000.0\n",
       "Physics                  91000.0\n",
       "Name: salary, dtype: float64"
      ]
     },
     "execution_count": 27,
     "metadata": {},
     "output_type": "execute_result"
    }
   ],
   "source": [
    "result"
   ]
  },
  {
   "cell_type": "code",
   "execution_count": 28,
   "id": "7d0d9a14",
   "metadata": {},
   "outputs": [],
   "source": [
    "total_salary_by_dept = data_instructor.groupby('dept_name')['salary'].sum()\n",
    "\n",
    "average_total_salary = total_salary_by_dept.mean()\n",
    "\n",
    "selected_departments = total_salary_by_dept[total_salary_by_dept > average_total_salary].index.tolist()"
   ]
  },
  {
   "cell_type": "code",
   "execution_count": 29,
   "id": "0d11e19c",
   "metadata": {},
   "outputs": [
    {
     "data": {
      "text/plain": [
       "['Biology', 'Computer Science', 'Finance', 'History', 'Physics']"
      ]
     },
     "execution_count": 29,
     "metadata": {},
     "output_type": "execute_result"
    }
   ],
   "source": [
    "selected_departments"
   ]
  },
  {
   "cell_type": "code",
   "execution_count": 30,
   "id": "e5448b2c",
   "metadata": {},
   "outputs": [],
   "source": [
    "result = pd.merge(data_instructor, data_teaches, left_on='id', right_on='id')"
   ]
  },
  {
   "cell_type": "code",
   "execution_count": 31,
   "id": "f982dde0",
   "metadata": {},
   "outputs": [
    {
     "data": {
      "text/html": [
       "<div>\n",
       "<style scoped>\n",
       "    .dataframe tbody tr th:only-of-type {\n",
       "        vertical-align: middle;\n",
       "    }\n",
       "\n",
       "    .dataframe tbody tr th {\n",
       "        vertical-align: top;\n",
       "    }\n",
       "\n",
       "    .dataframe thead th {\n",
       "        text-align: right;\n",
       "    }\n",
       "</style>\n",
       "<table border=\"1\" class=\"dataframe\">\n",
       "  <thead>\n",
       "    <tr style=\"text-align: right;\">\n",
       "      <th></th>\n",
       "      <th>name</th>\n",
       "      <th>course_id</th>\n",
       "    </tr>\n",
       "  </thead>\n",
       "  <tbody>\n",
       "    <tr>\n",
       "      <th>0</th>\n",
       "      <td>Srinivasan</td>\n",
       "      <td>CS-101</td>\n",
       "    </tr>\n",
       "    <tr>\n",
       "      <th>1</th>\n",
       "      <td>Srinivasan</td>\n",
       "      <td>CS-315</td>\n",
       "    </tr>\n",
       "    <tr>\n",
       "      <th>2</th>\n",
       "      <td>Srinivasan</td>\n",
       "      <td>CS-347</td>\n",
       "    </tr>\n",
       "    <tr>\n",
       "      <th>3</th>\n",
       "      <td>Wu</td>\n",
       "      <td>FIN-201</td>\n",
       "    </tr>\n",
       "    <tr>\n",
       "      <th>4</th>\n",
       "      <td>Mozart</td>\n",
       "      <td>MU-199</td>\n",
       "    </tr>\n",
       "    <tr>\n",
       "      <th>5</th>\n",
       "      <td>Einstein</td>\n",
       "      <td>HY-101</td>\n",
       "    </tr>\n",
       "    <tr>\n",
       "      <th>6</th>\n",
       "      <td>El Said0</td>\n",
       "      <td>HIS-351</td>\n",
       "    </tr>\n",
       "    <tr>\n",
       "      <th>7</th>\n",
       "      <td>Katz</td>\n",
       "      <td>CS-101</td>\n",
       "    </tr>\n",
       "    <tr>\n",
       "      <th>8</th>\n",
       "      <td>Katz</td>\n",
       "      <td>CS-319</td>\n",
       "    </tr>\n",
       "    <tr>\n",
       "      <th>9</th>\n",
       "      <td>Crick</td>\n",
       "      <td>BIO-101</td>\n",
       "    </tr>\n",
       "    <tr>\n",
       "      <th>10</th>\n",
       "      <td>Crick</td>\n",
       "      <td>BIO-301</td>\n",
       "    </tr>\n",
       "    <tr>\n",
       "      <th>11</th>\n",
       "      <td>Brandt</td>\n",
       "      <td>CS-190</td>\n",
       "    </tr>\n",
       "    <tr>\n",
       "      <th>12</th>\n",
       "      <td>Brandt</td>\n",
       "      <td>CS-190</td>\n",
       "    </tr>\n",
       "    <tr>\n",
       "      <th>13</th>\n",
       "      <td>Brandt</td>\n",
       "      <td>CS-319</td>\n",
       "    </tr>\n",
       "    <tr>\n",
       "      <th>14</th>\n",
       "      <td>Kim</td>\n",
       "      <td>EE-181</td>\n",
       "    </tr>\n",
       "  </tbody>\n",
       "</table>\n",
       "</div>"
      ],
      "text/plain": [
       "          name course_id\n",
       "0   Srinivasan    CS-101\n",
       "1   Srinivasan    CS-315\n",
       "2   Srinivasan    CS-347\n",
       "3           Wu   FIN-201\n",
       "4       Mozart    MU-199\n",
       "5     Einstein    HY-101\n",
       "6     El Said0   HIS-351\n",
       "7         Katz    CS-101\n",
       "8         Katz    CS-319\n",
       "9        Crick   BIO-101\n",
       "10       Crick   BIO-301\n",
       "11      Brandt    CS-190\n",
       "12      Brandt    CS-190\n",
       "13      Brandt    CS-319\n",
       "14         Kim    EE-181"
      ]
     },
     "execution_count": 31,
     "metadata": {},
     "output_type": "execute_result"
    }
   ],
   "source": [
    "result[['name',\"course_id\"]]"
   ]
  },
  {
   "cell_type": "code",
   "execution_count": 32,
   "id": "5e7387d5",
   "metadata": {},
   "outputs": [],
   "source": [
    "result = pd.merge(data_instructor, data_teaches, left_on='id', right_on='id',how='left')"
   ]
  },
  {
   "cell_type": "code",
   "execution_count": 33,
   "id": "cf203823",
   "metadata": {},
   "outputs": [
    {
     "data": {
      "text/html": [
       "<div>\n",
       "<style scoped>\n",
       "    .dataframe tbody tr th:only-of-type {\n",
       "        vertical-align: middle;\n",
       "    }\n",
       "\n",
       "    .dataframe tbody tr th {\n",
       "        vertical-align: top;\n",
       "    }\n",
       "\n",
       "    .dataframe thead th {\n",
       "        text-align: right;\n",
       "    }\n",
       "</style>\n",
       "<table border=\"1\" class=\"dataframe\">\n",
       "  <thead>\n",
       "    <tr style=\"text-align: right;\">\n",
       "      <th></th>\n",
       "      <th>name</th>\n",
       "      <th>course_id</th>\n",
       "    </tr>\n",
       "  </thead>\n",
       "  <tbody>\n",
       "    <tr>\n",
       "      <th>0</th>\n",
       "      <td>Srinivasan</td>\n",
       "      <td>CS-101</td>\n",
       "    </tr>\n",
       "    <tr>\n",
       "      <th>1</th>\n",
       "      <td>Srinivasan</td>\n",
       "      <td>CS-315</td>\n",
       "    </tr>\n",
       "    <tr>\n",
       "      <th>2</th>\n",
       "      <td>Srinivasan</td>\n",
       "      <td>CS-347</td>\n",
       "    </tr>\n",
       "    <tr>\n",
       "      <th>3</th>\n",
       "      <td>Smith</td>\n",
       "      <td>NaN</td>\n",
       "    </tr>\n",
       "    <tr>\n",
       "      <th>4</th>\n",
       "      <td>Tom</td>\n",
       "      <td>NaN</td>\n",
       "    </tr>\n",
       "    <tr>\n",
       "      <th>5</th>\n",
       "      <td>Wu</td>\n",
       "      <td>FIN-201</td>\n",
       "    </tr>\n",
       "    <tr>\n",
       "      <th>6</th>\n",
       "      <td>Mozart</td>\n",
       "      <td>MU-199</td>\n",
       "    </tr>\n",
       "    <tr>\n",
       "      <th>7</th>\n",
       "      <td>Einstein</td>\n",
       "      <td>HY-101</td>\n",
       "    </tr>\n",
       "    <tr>\n",
       "      <th>8</th>\n",
       "      <td>El Said0</td>\n",
       "      <td>HIS-351</td>\n",
       "    </tr>\n",
       "    <tr>\n",
       "      <th>9</th>\n",
       "      <td>Gold</td>\n",
       "      <td>NaN</td>\n",
       "    </tr>\n",
       "    <tr>\n",
       "      <th>10</th>\n",
       "      <td>Katz</td>\n",
       "      <td>CS-101</td>\n",
       "    </tr>\n",
       "    <tr>\n",
       "      <th>11</th>\n",
       "      <td>Katz</td>\n",
       "      <td>CS-319</td>\n",
       "    </tr>\n",
       "    <tr>\n",
       "      <th>12</th>\n",
       "      <td>Califieri</td>\n",
       "      <td>NaN</td>\n",
       "    </tr>\n",
       "    <tr>\n",
       "      <th>13</th>\n",
       "      <td>Singh</td>\n",
       "      <td>NaN</td>\n",
       "    </tr>\n",
       "    <tr>\n",
       "      <th>14</th>\n",
       "      <td>Crick</td>\n",
       "      <td>BIO-101</td>\n",
       "    </tr>\n",
       "    <tr>\n",
       "      <th>15</th>\n",
       "      <td>Crick</td>\n",
       "      <td>BIO-301</td>\n",
       "    </tr>\n",
       "    <tr>\n",
       "      <th>16</th>\n",
       "      <td>Brandt</td>\n",
       "      <td>CS-190</td>\n",
       "    </tr>\n",
       "    <tr>\n",
       "      <th>17</th>\n",
       "      <td>Brandt</td>\n",
       "      <td>CS-190</td>\n",
       "    </tr>\n",
       "    <tr>\n",
       "      <th>18</th>\n",
       "      <td>Brandt</td>\n",
       "      <td>CS-319</td>\n",
       "    </tr>\n",
       "    <tr>\n",
       "      <th>19</th>\n",
       "      <td>Kim</td>\n",
       "      <td>EE-181</td>\n",
       "    </tr>\n",
       "  </tbody>\n",
       "</table>\n",
       "</div>"
      ],
      "text/plain": [
       "          name course_id\n",
       "0   Srinivasan    CS-101\n",
       "1   Srinivasan    CS-315\n",
       "2   Srinivasan    CS-347\n",
       "3        Smith       NaN\n",
       "4          Tom       NaN\n",
       "5           Wu   FIN-201\n",
       "6       Mozart    MU-199\n",
       "7     Einstein    HY-101\n",
       "8     El Said0   HIS-351\n",
       "9         Gold       NaN\n",
       "10        Katz    CS-101\n",
       "11        Katz    CS-319\n",
       "12   Califieri       NaN\n",
       "13       Singh       NaN\n",
       "14       Crick   BIO-101\n",
       "15       Crick   BIO-301\n",
       "16      Brandt    CS-190\n",
       "17      Brandt    CS-190\n",
       "18      Brandt    CS-319\n",
       "19         Kim    EE-181"
      ]
     },
     "execution_count": 33,
     "metadata": {},
     "output_type": "execute_result"
    }
   ],
   "source": [
    "result[['name',\"course_id\"]]"
   ]
  },
  {
   "cell_type": "code",
   "execution_count": 34,
   "id": "6ef27387",
   "metadata": {},
   "outputs": [],
   "source": [
    "import time"
   ]
  },
  {
   "cell_type": "code",
   "execution_count": 35,
   "id": "6e9b2580",
   "metadata": {},
   "outputs": [],
   "source": [
    "starttime_sql=time.time()"
   ]
  },
  {
   "cell_type": "code",
   "execution_count": 36,
   "id": "5778dfde",
   "metadata": {},
   "outputs": [],
   "source": [
    "cur.execute(\"SELECT name,teaches.course_id from instructor left outer join teaches on instructor.id=teaches.id;\")"
   ]
  },
  {
   "cell_type": "code",
   "execution_count": 37,
   "id": "346b8aec",
   "metadata": {},
   "outputs": [],
   "source": [
    "endtime_sql=time.time()"
   ]
  },
  {
   "cell_type": "code",
   "execution_count": 38,
   "id": "3097acb0",
   "metadata": {},
   "outputs": [],
   "source": [
    "execution_time_sql = endtime_sql - starttime_sql"
   ]
  },
  {
   "cell_type": "code",
   "execution_count": 39,
   "id": "c16bab78",
   "metadata": {},
   "outputs": [],
   "source": [
    "starttime_py=time.time()"
   ]
  },
  {
   "cell_type": "code",
   "execution_count": 40,
   "id": "db6bdb34",
   "metadata": {},
   "outputs": [],
   "source": [
    "result = pd.merge(data_instructor, data_teaches, left_on='id', right_on='id',how='left')"
   ]
  },
  {
   "cell_type": "code",
   "execution_count": 41,
   "id": "93e02048",
   "metadata": {},
   "outputs": [],
   "source": [
    "endtime_py=time.time()"
   ]
  },
  {
   "cell_type": "code",
   "execution_count": 42,
   "id": "1064f0c2",
   "metadata": {},
   "outputs": [],
   "source": [
    "execution_time_py = endtime_py - starttime_py"
   ]
  },
  {
   "cell_type": "code",
   "execution_count": 43,
   "id": "939820bd",
   "metadata": {},
   "outputs": [
    {
     "data": {
      "text/plain": [
       "0.022913455963134766"
      ]
     },
     "execution_count": 43,
     "metadata": {},
     "output_type": "execute_result"
    }
   ],
   "source": [
    "execution_time_sql"
   ]
  },
  {
   "cell_type": "code",
   "execution_count": 44,
   "id": "ba68ab27",
   "metadata": {},
   "outputs": [
    {
     "data": {
      "text/plain": [
       "0.016382455825805664"
      ]
     },
     "execution_count": 44,
     "metadata": {},
     "output_type": "execute_result"
    }
   ],
   "source": [
    "execution_time_py"
   ]
  }
 ],
 "metadata": {
  "kernelspec": {
   "display_name": "Python 3 (ipykernel)",
   "language": "python",
   "name": "python3"
  },
  "language_info": {
   "codemirror_mode": {
    "name": "ipython",
    "version": 3
   },
   "file_extension": ".py",
   "mimetype": "text/x-python",
   "name": "python",
   "nbconvert_exporter": "python",
   "pygments_lexer": "ipython3",
   "version": "3.11.5"
  }
 },
 "nbformat": 4,
 "nbformat_minor": 5
}
